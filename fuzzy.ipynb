{
 "cells": [
  {
   "cell_type": "code",
   "execution_count": 1,
   "metadata": {},
   "outputs": [],
   "source": [
    "import numpy as np\n",
    "import skfuzzy as fuzz\n",
    "from skfuzzy import control as ctrl"
   ]
  },
  {
   "cell_type": "code",
   "execution_count": 2,
   "metadata": {},
   "outputs": [],
   "source": [
    "# Creates the antecedents, or inputs, to decide the most efficient solution.\n",
    "risk = ctrl.Antecedent(np.arange(0, 101, 1), 'risk')            # Risk of the generated action\n",
    "time = ctrl.Antecedent(np.arange(0, 101, 1), 'time')            # Time to execute the action\n",
    "energy = ctrl.Consequent(np.arange(0, 101, 1), 'energy')        # Considers the current energy of the system.\n",
    "complexity = ctrl.Consequent(np.arange(0, 101, 1), 'complexity')# \n",
    "impact = ctrl.Consequent(np.arange(0, 101, 1), 'impact')        # How much it would affect the mission\n",
    "\n",
    "# Output variable to decide the best course of action, the fuzzy set of each action depends on the State (S) of the system\n",
    "action = ctrl.Consequent(np.arange(0, 11, 1), 'action')"
   ]
  },
  {
   "cell_type": "code",
   "execution_count": 3,
   "metadata": {},
   "outputs": [],
   "source": [
    "# Fuzzy sets for input variables, the sets are splitted in 3 different categories which are (low, medium, high)\n",
    "risk.automf(3, variable_type='quantity')\n",
    "time.automf(3, 'quantity', invert=True)\n",
    "energy.automf(3, 'quantity', invert=True)\n",
    "complexity.automf(3, 'quantity')\n",
    "impact.automf(3, 'quantity')"
   ]
  },
  {
   "cell_type": "code",
   "execution_count": 4,
   "metadata": {},
   "outputs": [],
   "source": [
    "# Create the possible actions for each state S\n",
    "def actions(state):\n",
    "    action.terms = {} # Clear the terms\n",
    "    if state == \"S1\": # Normal\n",
    "        action['remain_normal'] = fuzz.trapmf(action.universe, [0, 0, 8, 10])\n",
    "        action['emergency_landing'] = fuzz.trapmf(action.universe, [9, 9, 10, 10])\n",
    "        return \n",
    "    elif state == \"S2\": # GPS Spoofing\n",
    "        action['restore_attack'] = fuzz.trimf(action.universe, [0, 0, 3])\n",
    "        action['change_route'] = fuzz.trimf(action.universe, [1, 3, 5])\n",
    "        action['activate_redundancy'] = fuzz.trimf(action.universe, [3, 5, 7])\n",
    "        action['use_occupancy_maps'] = fuzz.trimf(action.universe, [5, 7, 9])\n",
    "        action['emergency_landing'] = fuzz.trimf(action.universe, [7, 10, 10])\n",
    "        return\n",
    "    elif state == \"S3\": # Jamming GPS\n",
    "        action['change_altitude'] = fuzz.trimf(action.universe, [0, 0, 3])\n",
    "        action['restore_system'] = fuzz.trapmf(action.universe, [1, 4, 5, 7])\n",
    "        action['activate_redundancy'] = fuzz.trapmf(action.universe, [3, 6, 7, 9])\n",
    "        action['emergency_landing'] = fuzz.trimf(action.universe, [7, 10, 10])\n",
    "        return\n",
    "    elif state == \"S4\": # Engine\n",
    "        action['activate_redundancy'] = fuzz.trapmf(action.universe, [0, 0, 4, 6])\n",
    "        action['emergency_landing'] = fuzz.trapmf(action.universe, [4 ,7, 10, 10])\n",
    "    elif state == \"S5\": # Aileron or elevator\n",
    "        action['change_altitude'] = fuzz.trapmf(action.universe, [0, 0, 4, 6])\n",
    "        action['emergency_landing'] = fuzz.trapmf(action.universe, [4 ,7, 10, 10])\n",
    "        return\n",
    "    elif state == \"S6\": # Rudder\n",
    "        action['navigation_adjustment'] = fuzz.trapmf(action.universe, [0, 0, 4, 6])\n",
    "        action['emergency_landing'] = fuzz.trapmf(action.universe, [4 ,7, 10, 10])\n",
    "        return"
   ]
  },
  {
   "cell_type": "code",
   "execution_count": 33,
   "metadata": {},
   "outputs": [],
   "source": [
    "# Create the rules for the fuzzy system\n",
    "def rules(state):\n",
    "    if state == \"S1\": # Normal\n",
    "        return [\n",
    "            ctrl.Rule((risk['high'] | complexity['high']) & energy['low'], action['emergency_landing'])\n",
    "        ]\n",
    "    elif state == \"S2\": # GPS Spoofing\n",
    "        return [\n",
    "            ctrl.Rule(risk['low'] & impact['low'] & complexity['low'], action['restore_attack']),\n",
    "            ctrl.Rule(time['high'] & energy['average'] & impact['average'], action['change_route']),\n",
    "            ctrl.Rule(time['average'] & energy['average'] & impact['average'], action['activate_redundancy']),\n",
    "            ctrl.Rule(time['low'] & energy['average'] & impact['high'], action['use_occupancy_maps']),\n",
    "            ctrl.Rule((risk['high'] | complexity['high']) & energy['low'], action['emergency_landing'])\n",
    "        ]\n",
    "    elif state == \"S3\": # Jamming GPS\n",
    "        return [\n",
    "            ctrl.Rule(risk['low'] & impact['low'] & complexity['low'], action['change_altitude']),\n",
    "            ctrl.Rule(time['high'] & energy['average'] & impact['average'], action['restore_system']),\n",
    "            ctrl.Rule(complexity['average'] & energy['average'] & time['average'], action['activate_redundancy']),\n",
    "            ctrl.Rule((risk['high'] | complexity['high']) & energy['low'], action['emergency_landing'])\n",
    "        ]\n",
    "    elif state == \"S4\": # Engine\n",
    "        return [\n",
    "            ctrl.Rule((risk['average'] | complexity['average']) & energy['high'], action['activate_redundancy']),\n",
    "            ctrl.Rule((risk['high'] | complexity['high']) & energy['low'], action['emergency_landing'])\n",
    "        ] \n",
    "    elif state == \"S5\": # Aileron\n",
    "        return [\n",
    "            ctrl.Rule((risk['average'] | complexity['average']) & energy['high'], action['change_altitude']),\n",
    "            ctrl.Rule((risk['high'] | complexity['high']) & energy['low'], action['emergency_landing'])\n",
    "        ] \n",
    "    elif state == \"S6\": # Rudder\n",
    "        return [\n",
    "            ctrl.Rule((risk['average'] | complexity['average']) & energy['high'], action['navigation_adjustment']),\n",
    "            ctrl.Rule((risk['high'] | complexity['high']) & energy['low'], action['emergency_landing'])\n",
    "        ] \n"
   ]
  },
  {
   "cell_type": "code",
   "execution_count": 34,
   "metadata": {},
   "outputs": [],
   "source": [
    "def decision_name(state, action_value):\n",
    "    if state == \"S1\":\n",
    "        if action_value < 5:\n",
    "            return \"Remain Normal\"\n",
    "        else:\n",
    "            return \"Emergency Landing\"\n",
    "    elif state == \"S2\": \n",
    "        if action_value < 2:\n",
    "            return \"Restore Attack\"\n",
    "        elif action_value < 4:\n",
    "            return \"Change Route\"\n",
    "        elif action_value < 6:\n",
    "            return \"Activate Redundancy\"\n",
    "        elif action_value < 8:\n",
    "            return \"Use Occupancy Maps\"\n",
    "        else:\n",
    "            return \"Emergency Landing\"\n",
    "    elif state == \"S3\":\n",
    "        if action_value < 2:\n",
    "            return \"Change Altitude\"\n",
    "        elif action_value < 5:\n",
    "            return \"Restore System\"\n",
    "        elif action_value < 8:\n",
    "            return \"Activate Redundancy\"\n",
    "        else:\n",
    "            return \"Emergency Landing\"\n",
    "    elif state == \"S4\":\n",
    "        if action_value < 5:\n",
    "            return \"Activate Redundancy\"\n",
    "        else:\n",
    "            return \"Emergency Landing\"\n",
    "    elif state == \"S5\":\n",
    "        if action_value < 5:\n",
    "            return \"Change Altitude\"\n",
    "        else:\n",
    "            return \"Emergency Landing\"\n",
    "    elif state == \"S6\":\n",
    "        if action_value < 5:\n",
    "            return \"Navigation Adjustment\"\n",
    "        else:\n",
    "            return \"Emergency Landing\"\n",
    "        "
   ]
  },
  {
   "cell_type": "code",
   "execution_count": 35,
   "metadata": {},
   "outputs": [],
   "source": [
    "# Function to get the appropriate action based on the current state and inputs\n",
    "def get_action(state, risk_value, time_value, energy_value, complexity_value, impact_value):\n",
    "    actions(state)\n",
    "    rule_set = rules(state)\n",
    "    action_ctrl = ctrl.ControlSystem(rule_set)\n",
    "    action_simulation = ctrl.ControlSystemSimulation(action_ctrl)\n",
    "\n",
    "    action_simulation.input['risk'] = risk_value\n",
    "    action_simulation.input['time'] = time_value\n",
    "    action_simulation.input['energy'] = energy_value\n",
    "    action_simulation.input['complexity'] = complexity_value\n",
    "    action_simulation.input['impact'] = impact_value\n",
    "    \n",
    "    action_simulation.compute()\n",
    "    \n",
    "    action_value = action_simulation.output['action']\n",
    "    \n",
    "    return decision_name(state, action_value)"
   ]
  },
  {
   "cell_type": "code",
   "execution_count": 32,
   "metadata": {},
   "outputs": [
    {
     "ename": "ValueError",
     "evalue": "Unexpected input: time",
     "output_type": "error",
     "traceback": [
      "\u001b[0;31m---------------------------------------------------------------------------\u001b[0m",
      "\u001b[0;31mValueError\u001b[0m                                Traceback (most recent call last)",
      "Cell \u001b[0;32mIn[32], line 1\u001b[0m\n\u001b[0;32m----> 1\u001b[0m \u001b[38;5;28mprint\u001b[39m(\u001b[43mget_action\u001b[49m\u001b[43m(\u001b[49m\u001b[38;5;124;43m\"\u001b[39;49m\u001b[38;5;124;43mS3\u001b[39;49m\u001b[38;5;124;43m\"\u001b[39;49m\u001b[43m,\u001b[49m\u001b[43m \u001b[49m\u001b[38;5;241;43m50\u001b[39;49m\u001b[43m,\u001b[49m\u001b[43m \u001b[49m\u001b[38;5;241;43m50\u001b[39;49m\u001b[43m,\u001b[49m\u001b[43m \u001b[49m\u001b[38;5;241;43m50\u001b[39;49m\u001b[43m,\u001b[49m\u001b[43m \u001b[49m\u001b[38;5;241;43m49\u001b[39;49m\u001b[43m,\u001b[49m\u001b[43m \u001b[49m\u001b[38;5;241;43m50\u001b[39;49m\u001b[43m)\u001b[49m)\n",
      "Cell \u001b[0;32mIn[31], line 9\u001b[0m, in \u001b[0;36mget_action\u001b[0;34m(state, risk_value, time_value, energy_value, complexity_value, impact_value)\u001b[0m\n\u001b[1;32m      6\u001b[0m action_simulation \u001b[38;5;241m=\u001b[39m ctrl\u001b[38;5;241m.\u001b[39mControlSystemSimulation(action_ctrl)\n\u001b[1;32m      8\u001b[0m action_simulation\u001b[38;5;241m.\u001b[39minput[\u001b[38;5;124m'\u001b[39m\u001b[38;5;124mrisk\u001b[39m\u001b[38;5;124m'\u001b[39m] \u001b[38;5;241m=\u001b[39m risk_value\n\u001b[0;32m----> 9\u001b[0m \u001b[43maction_simulation\u001b[49m\u001b[38;5;241;43m.\u001b[39;49m\u001b[43minput\u001b[49m\u001b[43m[\u001b[49m\u001b[38;5;124;43m'\u001b[39;49m\u001b[38;5;124;43mtime\u001b[39;49m\u001b[38;5;124;43m'\u001b[39;49m\u001b[43m]\u001b[49m \u001b[38;5;241m=\u001b[39m time_value\n\u001b[1;32m     10\u001b[0m action_simulation\u001b[38;5;241m.\u001b[39minput[\u001b[38;5;124m'\u001b[39m\u001b[38;5;124menergy\u001b[39m\u001b[38;5;124m'\u001b[39m] \u001b[38;5;241m=\u001b[39m energy_value\n\u001b[1;32m     11\u001b[0m action_simulation\u001b[38;5;241m.\u001b[39minput[\u001b[38;5;124m'\u001b[39m\u001b[38;5;124mcomplexity\u001b[39m\u001b[38;5;124m'\u001b[39m] \u001b[38;5;241m=\u001b[39m complexity_value\n",
      "File \u001b[0;32m~/.local/lib/python3.12/site-packages/skfuzzy/control/controlsystem.py:167\u001b[0m, in \u001b[0;36m_InputAcceptor.__setitem__\u001b[0;34m(self, key, value)\u001b[0m\n\u001b[1;32m    164\u001b[0m matches \u001b[38;5;241m=\u001b[39m [n \u001b[38;5;28;01mfor\u001b[39;00m n \u001b[38;5;129;01min\u001b[39;00m \u001b[38;5;28mself\u001b[39m\u001b[38;5;241m.\u001b[39msim\u001b[38;5;241m.\u001b[39mctrl\u001b[38;5;241m.\u001b[39mgraph\u001b[38;5;241m.\u001b[39mnodes()\n\u001b[1;32m    165\u001b[0m            \u001b[38;5;28;01mif\u001b[39;00m \u001b[38;5;28misinstance\u001b[39m(n, Antecedent) \u001b[38;5;129;01mand\u001b[39;00m n\u001b[38;5;241m.\u001b[39mlabel \u001b[38;5;241m==\u001b[39m key]\n\u001b[1;32m    166\u001b[0m \u001b[38;5;28;01mif\u001b[39;00m \u001b[38;5;28mlen\u001b[39m(matches) \u001b[38;5;241m==\u001b[39m \u001b[38;5;241m0\u001b[39m:\n\u001b[0;32m--> 167\u001b[0m     \u001b[38;5;28;01mraise\u001b[39;00m \u001b[38;5;167;01mValueError\u001b[39;00m(\u001b[38;5;124m\"\u001b[39m\u001b[38;5;124mUnexpected input: \u001b[39m\u001b[38;5;124m\"\u001b[39m \u001b[38;5;241m+\u001b[39m key)\n\u001b[1;32m    168\u001b[0m \u001b[38;5;28;01massert\u001b[39;00m \u001b[38;5;28mlen\u001b[39m(matches) \u001b[38;5;241m==\u001b[39m \u001b[38;5;241m1\u001b[39m\n\u001b[1;32m    169\u001b[0m var \u001b[38;5;241m=\u001b[39m matches[\u001b[38;5;241m0\u001b[39m]\n",
      "\u001b[0;31mValueError\u001b[0m: Unexpected input: time"
     ]
    }
   ],
   "source": [
    "print(get_action(\"S3\", 50, 50, 50, 49, 50))"
   ]
  },
  {
   "cell_type": "code",
   "execution_count": null,
   "metadata": {},
   "outputs": [],
   "source": []
  }
 ],
 "metadata": {
  "kernelspec": {
   "display_name": "Python 3",
   "language": "python",
   "name": "python3"
  },
  "language_info": {
   "codemirror_mode": {
    "name": "ipython",
    "version": 3
   },
   "file_extension": ".py",
   "mimetype": "text/x-python",
   "name": "python",
   "nbconvert_exporter": "python",
   "pygments_lexer": "ipython3",
   "version": "3.11.2"
  }
 },
 "nbformat": 4,
 "nbformat_minor": 2
}
