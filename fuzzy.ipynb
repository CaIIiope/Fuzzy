{
 "cells": [
  {
   "cell_type": "code",
   "execution_count": 1,
   "metadata": {},
   "outputs": [],
   "source": [
    "import numpy as np\n",
    "import skfuzzy as fuzz\n",
    "from skfuzzy import control as ctrl"
   ]
  },
  {
   "cell_type": "code",
   "execution_count": 2,
   "metadata": {},
   "outputs": [],
   "source": [
    "# Creates the antecedents, or inputs, to decide the most efficient solution.\n",
    "risk = ctrl.Antecedent(np.arange(0, 101, 1), 'risk')            # Risk of the generated action\n",
    "time = ctrl.Antecedent(np.arange(0, 101, 1), 'time')            # Time to execute the action\n",
    "energy = ctrl.Consequent(np.arange(0, 101, 1), 'energy')        # Considers the current energy of the system.\n",
    "complexity = ctrl.Consequent(np.arange(0, 101, 1), 'complexity')# \n",
    "impact = ctrl.Consequent(np.arange(0, 101, 1), 'impact')        # How much it would affect the mission\n",
    "\n",
    "# Output variable to decide the best course of action, the fuzzy set of each action depends on the State (S) of the system\n",
    "action = ctrl.Consequent(np.arange(0, 11, 1), 'action')"
   ]
  },
  {
   "cell_type": "code",
   "execution_count": 3,
   "metadata": {},
   "outputs": [],
   "source": [
    "# Fuzzy sets for input variables, the sets are splitted in 3 different categories which are (poor, average, good)\n",
    "risk.automf(3)\n",
    "time.automf(3)\n",
    "energy.automf(3)\n",
    "complexity.automf(3)\n",
    "impact.automf(3)"
   ]
  },
  {
   "cell_type": "code",
   "execution_count": 4,
   "metadata": {},
   "outputs": [
    {
     "ename": "SyntaxError",
     "evalue": "cannot assign to subscript here. Maybe you meant '==' instead of '='? (797720796.py, line 9)",
     "output_type": "error",
     "traceback": [
      "\u001b[0;36m  Cell \u001b[0;32mIn[4], line 9\u001b[0;36m\u001b[0m\n\u001b[0;31m    action['change_route'] = fuzz.trimf(action.universe, [0, 0, 3])\u001b[0m\n\u001b[0m    ^\u001b[0m\n\u001b[0;31mSyntaxError\u001b[0m\u001b[0;31m:\u001b[0m cannot assign to subscript here. Maybe you meant '==' instead of '='?\n"
     ]
    }
   ],
   "source": [
    "# Create the possible actions for each state S\n",
    "def actions(state):\n",
    "    if state == \"S1\": # Normal\n",
    "        return [\n",
    "            #...\n",
    "        ]\n",
    "    elif state == \"S2\": # GPS Spoofing\n",
    "        return [\n",
    "            ('change_route', fuzz.trimf(action.universe, [0, 0, 3])),\n",
    "            ('activate_redundancy', fuzz.trimf(action.universe, [1, 3, 5])),\n",
    "            ('use_occupancy_maps', fuzz.trimf(action.universe, [3, 5, 7])),\n",
    "            ('change_altitude', fuzz.trimf(action.universe, [5, 7, 9])),\n",
    "            ('emergency_landing', fuzz.trimf(action.universe, [7, 10, 10]))\n",
    "        ]\n",
    "    elif state == \"S3\": # Jamming GPS\n",
    "        return [\n",
    "            \n",
    "        ]"
   ]
  }
 ],
 "metadata": {
  "kernelspec": {
   "display_name": "Python 3",
   "language": "python",
   "name": "python3"
  },
  "language_info": {
   "codemirror_mode": {
    "name": "ipython",
    "version": 3
   },
   "file_extension": ".py",
   "mimetype": "text/x-python",
   "name": "python",
   "nbconvert_exporter": "python",
   "pygments_lexer": "ipython3",
   "version": "3.11.2"
  }
 },
 "nbformat": 4,
 "nbformat_minor": 2
}
